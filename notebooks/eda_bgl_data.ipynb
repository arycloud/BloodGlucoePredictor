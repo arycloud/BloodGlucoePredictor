{
 "cells": [
  {
   "cell_type": "code",
   "execution_count": null,
   "metadata": {
    "id": "hXWh9BMF36GH",
    "colab_type": "code",
    "colab": {}
   },
   "outputs": [],
   "source": [
    "import pandas as pd\n",
    "import numpy as np\n",
    "import tensorflow as tf\n",
    "from pandas import datetime\n",
    "\n",
    "from statsmodels.tsa.stattools import adfuller\n",
    "\n",
    "import matplotlib.pyplot as plt\n",
    "from matplotlib.pylab import rcParams\n",
    "rcParams['figure.figsize'] = 18, 5"
   ]
  },
  {
   "cell_type": "code",
   "execution_count": 0,
   "metadata": {
    "id": "9tOyNY_s8FJe",
    "colab_type": "code",
    "colab": {}
   },
   "outputs": [],
   "source": [
    "def parser(x):\n",
    "  return datetime.strptime(x, '%Y-%m-%d %H:%M:%S')"
   ]
  },
  {
   "cell_type": "code",
   "execution_count": 0,
   "metadata": {
    "id": "1_WEvtmZ4CqV",
    "colab_type": "code",
    "colab": {}
   },
   "outputs": [],
   "source": [
    "bgd = pd.read_csv('/content/drive/My Drive/blood-glucose-data.csv', index_col=1, parse_dates=[1], date_parser=parser)\n",
    "bgd.head()"
   ]
  },
  {
   "cell_type": "code",
   "execution_count": null,
   "metadata": {
    "id": "TXOpfRnUH_3a",
    "colab_type": "code",
    "colab": {}
   },
   "outputs": [],
   "source": [
    "# del bgd['timezone_offset']\n",
    "plt.xlabel('Date')\n",
    "plt.ylabel('point value mg/dl')\n",
    "plt.plot(bgd)\n",
    "plt.savefig('pv_mg_dl.png')\n"
   ]
  },
  {
   "cell_type": "code",
   "execution_count": 0,
   "metadata": {
    "id": "Rg-w9wtQ0eSB",
    "colab_type": "code",
    "colab": {}
   },
   "outputs": [],
   "source": [
    ""
   ]
  },
  {
   "cell_type": "code",
   "execution_count": 0,
   "metadata": {
    "id": "76ebQ4-H4kUV",
    "colab_type": "code",
    "colab": {}
   },
   "outputs": [],
   "source": [
    "# detrrmine the rolling mean\n",
    "rolmean = bgd.rolling(window=12).mean()\n",
    "rolstd = bgd.rolling(window=12).std()\n",
    "print(rolmean, rolstd)"
   ]
  },
  {
   "cell_type": "code",
   "execution_count": 0,
   "metadata": {
    "id": "0Y6lAcaz5J2a",
    "colab_type": "code",
    "colab": {}
   },
   "outputs": [],
   "source": [
    "# plot rolling\n",
    "orig = plt.plot(bgd, color='blue', label='Original')\n",
    "mean = plt.plot(rolmean, color='red', label='MovingAverage')\n",
    "std = plt.plot(rolstd, color='black', label='movingStd')\n",
    "plt.legend(loc='best')\n",
    "plt.title('Rolling mean and std')\n",
    "plt.show(block=False)"
   ]
  },
  {
   "cell_type": "code",
   "execution_count": 0,
   "metadata": {
    "id": "KKqxjJf7NxJf",
    "colab_type": "code",
    "colab": {}
   },
   "outputs": [],
   "source": [
    "# Dickey Fuller results\n",
    "bgd_test = adfuller(data['point_value(mg/dL)'], autolag='AIC')\n",
    "bgd_output = pd.Series(bgd_test[0:4], index=['Test Statistic', 'p-value', '#Lags-Used',\n",
    "                                              'Number of observations used'])\n",
    "for key, value in bgd_test[4].items():\n",
    "  bgd_output['Critical Value (%s)'%key] = value\n",
    "\n",
    "print(bgd_output)"
   ]
  },
  {
   "cell_type": "code",
   "execution_count": 0,
   "metadata": {
    "id": "vrx1xRvAOjuI",
    "colab_type": "code",
    "colab": {}
   },
   "outputs": [],
   "source": [
    "bgd_logscale = np.log(bgd)\n",
    "plt.plot(bgd_logscale)"
   ]
  },
  {
   "cell_type": "code",
   "execution_count": 0,
   "metadata": {
    "id": "d520dvYuPd63",
    "colab_type": "code",
    "colab": {}
   },
   "outputs": [],
   "source": [
    "rolmean = bgd_logscale.rolling(window=12).mean()\n",
    "rolstd = bgd_logscale.rolling(window=12).std()\n",
    "plt.plot(bgd_logscale)\n",
    "plt.plot(rolmean, color='red')"
   ]
  },
  {
   "cell_type": "code",
   "execution_count": 0,
   "metadata": {
    "id": "EE0CggiOU8bA",
    "colab_type": "code",
    "colab": {}
   },
   "outputs": [],
   "source": [
    "bgd_diff = bgd.diff(periods=2)\n",
    "bgd_diff.plot()"
   ]
  },
  {
   "cell_type": "markdown",
   "metadata": {
    "id": "-gW52R110NrO",
    "colab_type": "text"
   },
   "source": [
    "### check for stationary"
   ]
  }
 ],
 "metadata": {
  "colab": {
   "name": "Untitled6.ipynb",
   "provenance": [],
   "private_outputs": true,
   "machine_shape": "hm"
  },
  "kernelspec": {
   "name": "python3",
   "display_name": "Python 3"
  }
 },
 "nbformat": 4,
 "nbformat_minor": 0
}
